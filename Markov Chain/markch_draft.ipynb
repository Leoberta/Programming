{
 "cells": [
  {
   "cell_type": "code",
   "execution_count": 26,
   "id": "b7dcf0c9",
   "metadata": {},
   "outputs": [
    {
     "name": "stdout",
     "output_type": "stream",
     "text": [
      "hello\n",
      "world\n",
      "nice\n",
      "day\n"
     ]
    }
   ],
   "source": [
    "######################################\n",
    "############# MARKOV CHAIN ###################\n",
    "\n",
    "import random as rd\n",
    "import itertools as it\n",
    "# We want to merge all the text into a single stream of printable characters.\n",
    "\n",
    "#To do this we will use itertools.chain.from_iterable to combine lines into a single stream.\n",
    "\n",
    "l = [['hello', 'world'],['nice', 'day']]\n",
    "l1 = it.chain.from_iterable(l)\n",
    "for el in l1:\n",
    "    print(el) ## prints the single elements of a list ( so also strings)"
   ]
  },
  {
   "cell_type": "code",
   "execution_count": 27,
   "id": "838c74ee",
   "metadata": {},
   "outputs": [
    {
     "name": "stdout",
     "output_type": "stream",
     "text": [
      "['\\n', '\\n', 'm', 'y', ' ', 'f', 'a', 't', 'h', 'e', 'r', '’', 's', ' ', 'f', 'a', 'm', 'i', 'l', 'y', ' ', 'n', 'a', 'm', 'e', ' ', 'b', 'e', 'i', 'n']\n",
      "Counter({' ': 168157, 'e': 91702, 't': 68614, 'a': 62849, 'o': 59867, 'i': 54474, 'n': 52701, 'h': 48082, 's': 45132, 'r': 40780, 'd': 36630, 'l': 28004, 'm': 22549, 'u': 21712, '\\n': 20244, 'w': 20232, ',': 17046, 'c': 16878, 'g': 16441, 'y': 16061, 'f': 15742, 'p': 12851, 'b': 12167, '.': 8522, 'k': 7535, 'v': 6718, '“': 3945, '”': 3908, '’': 2596, 'j': 1669, ';': 1257, '-': 1221, '?': 1216, '—': 1151, '!': 985, 'x': 938, 'q': 699, '_': 494, '(': 250, ')': 250, 'z': 164, ':': 105, '‘': 95, '2': 3, '4': 1, '\\t': 1, 'ô': 1, '&': 1, 'ê': 1, '1': 1})\n"
     ]
    }
   ],
   "source": [
    "from collections import Counter\n",
    "# We will use the Counter class to count the number of occurrences of each character in the text.\n",
    "# The Counter class is a subclass of dict that is used to count hashable objects.\n",
    "\n",
    "file = './great_expectations_cleaned.txt'\n",
    "with open(file, 'r', encoding='utf8') as text:\n",
    "    lines = (line.lower() for line in text)\n",
    "    characters = it.chain.from_iterable(lines)\n",
    "    result = list(characters)\n",
    "    counts = Counter(result)\n",
    "\n",
    "print(result[:30])\n",
    "print (counts)\n",
    " \n"
   ]
  },
  {
   "cell_type": "code",
   "execution_count": 28,
   "id": "39fb8c99",
   "metadata": {},
   "outputs": [
    {
     "name": "stdout",
     "output_type": "stream",
     "text": [
      "['c', 'e', 'o', 'g', 'e', 'o', ' ', 'r', 'e', 'g', 'c', ' ', 'e', 'e', 'w', ' ', 'r', ' ', 'h', ' ', 'n', 't', ' ', 'h', ' ', 'n', 's', '—', ' ', ' ', 'a', ' ', ' ', 's', 'e', ' ', 'h', 't', 'a', 'e', 'a', 'd', ' ', ' ', 'i', 't', 'g', ' ', ' ', 'i']\n",
      "ceogeo regc eew r h nt h ns—  a  se htaead  itg  i\n",
      "15\n"
     ]
    }
   ],
   "source": [
    "random_sample = rd.choices(list(counts.keys()), weights=list(counts.values()), k=50)\n",
    "\n",
    "print(random_sample)\n",
    "# The random.choices() function is used to return a list with a randomly selected element from the given iterable.\n",
    "\n",
    "text2=str.join('', random_sample) \n",
    "print(text2)\n",
    "# The str.join() method is used to join the elements of an iterable (such as a list or tuple) into a single string.\n",
    "\n",
    "print(len(Counter(text2)))"
   ]
  },
  {
   "cell_type": "markdown",
   "id": "6f052e7e",
   "metadata": {},
   "source": [
    "First order Markov chains\n",
    "\n",
    "Instead of generating each letter based on its frequency in the text, let's follow these steps:\n",
    "\n",
    "    look at the last letter in the text that has been generated so far;\n",
    "    consider in the original text how often each letter follows the chosen one;\n",
    "    generate the new letter based on this conditional probability;\n",
    "    consider the last letter generated as new starting point and go back to point 2"
   ]
  },
  {
   "cell_type": "code",
   "execution_count": 29,
   "id": "ad1eecb0",
   "metadata": {},
   "outputs": [
    {
     "name": "stdout",
     "output_type": "stream",
     "text": [
      "50\n"
     ]
    }
   ],
   "source": [
    "print (len(counts))\n",
    "# first order chain is 50**2 for a pair of characters\n",
    "\n",
    "to_replace = {'ô': 'o', 'ê': 'i'}\n",
    "\n",
    "def letter_normalization(letter):\n",
    "    if letter in to_replace:\n",
    "        return to_replace[letter] \n",
    "    return letter\n",
    "\n",
    "norm_result = []\n",
    "\n",
    "with open(file, 'r', encoding='utf8') as text:\n",
    "    lines = (line.lower() for line in text)\n",
    "    characters = it.chain.from_iterable(lines)\n",
    "    result = list(characters)\n",
    "    for letter in result:\n",
    "        modified_letter = letter_normalization(letter)\n",
    "        norm_result.append(modified_letter)"
   ]
  },
  {
   "cell_type": "markdown",
   "id": "339c9578",
   "metadata": {},
   "source": [
    "We need to take our characters in couples.\n",
    "\n",
    "If we have a text like \"home\", we want to obtain the following couples:\n",
    "\n",
    "(h, o) (o, m) (m, e)\n"
   ]
  },
  {
   "cell_type": "code",
   "execution_count": 30,
   "id": "81d35d51",
   "metadata": {},
   "outputs": [
    {
     "name": "stdout",
     "output_type": "stream",
     "text": [
      "[('h', 'o'), ('o', 'm'), ('m', 'e')]\n"
     ]
    },
    {
     "data": {
      "text/plain": [
       "[('\\n', '\\n'),\n",
       " ('\\n', 'm'),\n",
       " ('m', 'y'),\n",
       " ('y', ' '),\n",
       " (' ', 'f'),\n",
       " ('f', 'a'),\n",
       " ('a', 't'),\n",
       " ('t', 'h'),\n",
       " ('h', 'e'),\n",
       " ('e', 'r'),\n",
       " ('r', '’'),\n",
       " ('’', 's'),\n",
       " ('s', ' '),\n",
       " (' ', 'f'),\n",
       " ('f', 'a'),\n",
       " ('a', 'm'),\n",
       " ('m', 'i'),\n",
       " ('i', 'l'),\n",
       " ('l', 'y'),\n",
       " ('y', ' ')]"
      ]
     },
     "execution_count": 30,
     "metadata": {},
     "output_type": "execute_result"
    }
   ],
   "source": [
    "from toolz import sliding_window\n",
    "\n",
    "seq = \"home\"\n",
    "couples = sliding_window(2, seq)\n",
    "print(list(couples))\n",
    "\n",
    "\n",
    "couples = list(sliding_window(2, norm_result)) # the whole text is divided into couples of letters\n",
    "couples[:20] \n"
   ]
  },
  {
   "cell_type": "markdown",
   "id": "7f6426ce",
   "metadata": {},
   "source": [
    "WE RE WRITING AN ALGORYTHM TO BE ABLE TO RECREATE PHRASES"
   ]
  },
  {
   "cell_type": "code",
   "execution_count": 31,
   "id": "805f1018",
   "metadata": {},
   "outputs": [
    {
     "data": {
      "text/plain": [
       "[(('e', ' '), 26238),\n",
       " ((' ', 't'), 23005),\n",
       " (('t', 'h'), 20522),\n",
       " (('d', ' '), 20014),\n",
       " ((' ', 'a'), 19685),\n",
       " (('h', 'e'), 19622),\n",
       " (('t', ' '), 16691),\n",
       " ((',', ' '), 14395),\n",
       " (('i', 'n'), 14071),\n",
       " ((' ', 'i'), 14032),\n",
       " ((' ', 'h'), 13476),\n",
       " (('a', 'n'), 13002),\n",
       " (('e', 'r'), 12975),\n",
       " (('s', ' '), 12944),\n",
       " ((' ', 'w'), 12708),\n",
       " ((' ', 's'), 11562),\n",
       " (('n', 'd'), 10741),\n",
       " (('n', ' '), 10641),\n",
       " (('h', 'a'), 10443),\n",
       " ((' ', 'o'), 10028)]"
      ]
     },
     "execution_count": 31,
     "metadata": {},
     "output_type": "execute_result"
    }
   ],
   "source": [
    "count_couples = Counter(couples)\n",
    "len(count_couples)\n",
    "count_couples.most_common(20)"
   ]
  },
  {
   "cell_type": "markdown",
   "id": "f3d8e556",
   "metadata": {},
   "source": [
    "\n",
    "\n",
    "In order to generate the new letter starting from the previous one, we have to select only the part of our dictionary that contains our letter as initial part.\n",
    "\n",
    "We can use the dictionary items function to get the sequence of key-value pairs, and filter them by their starting point.\n",
    "\n"
   ]
  },
  {
   "cell_type": "markdown",
   "id": "72582c98",
   "metadata": {},
   "source": []
  },
  {
   "cell_type": "code",
   "execution_count": 32,
   "id": "17c3fe7e",
   "metadata": {},
   "outputs": [
    {
     "name": "stdout",
     "output_type": "stream",
     "text": [
      "[('a', 'b'), ('a', 'p')]\n"
     ]
    },
    {
     "data": {
      "text/plain": [
       "(['b', 'p'], [1, 3])"
      ]
     },
     "execution_count": 32,
     "metadata": {},
     "output_type": "execute_result"
    }
   ],
   "source": [
    "def starts_with(sequence, letter):\n",
    "    return sequence[0]==letter\n",
    "\n",
    "fake_counts = {('a', 'b'): 1, ('b', 'c'): 2, ('a', 'p'): 3}\n",
    "letter = 'a'\n",
    "ks = [k for k, v in fake_counts.items() if starts_with(k, letter)]\n",
    "print(ks)\n",
    "\n",
    "letter = 'a'\n",
    "letters = [k[-1] for k, v in fake_counts.items() if starts_with(k, letter)]\n",
    "occurrences = [v for k, v in fake_counts.items() if starts_with(k, letter)]\n",
    "letters, occurrences"
   ]
  },
  {
   "cell_type": "code",
   "execution_count": 33,
   "id": "4af255b6",
   "metadata": {},
   "outputs": [
    {
     "name": "stdout",
     "output_type": "stream",
     "text": [
      " s be\n",
      "llod\n",
      "\n"
     ]
    }
   ],
   "source": [
    "new_text = [' ']\n",
    "\n",
    "for i in range(10):\n",
    "    character = new_text[-1]\n",
    "    characters = [k[-1] for k, v in count_couples.items() if starts_with(k, character)]\n",
    "    occurrences = [v for k, v in count_couples.items() if starts_with(k, character)]\n",
    "    next_character = rd.choices(characters, occurrences)[0]\n",
    "    new_text.append(next_character)\n",
    "\n",
    "new_text = str.join('', new_text)\n",
    "print(new_text)"
   ]
  },
  {
   "cell_type": "markdown",
   "id": "e9397e0b",
   "metadata": {},
   "source": [
    "2nd order Markov chains?!!!"
   ]
  },
  {
   "cell_type": "code",
   "execution_count": 34,
   "id": "f85d82c8",
   "metadata": {},
   "outputs": [
    {
     "data": {
      "text/plain": [
       "[((' ', 't', 'h'), 14542),\n",
       " (('t', 'h', 'e'), 11599),\n",
       " (('h', 'e', ' '), 10105),\n",
       " (('a', 'n', 'd'), 8130),\n",
       " (('n', 'd', ' '), 7553),\n",
       " ((' ', 'a', 'n'), 7497),\n",
       " (('i', 'n', 'g'), 6072),\n",
       " ((' ', 't', 'o'), 5875),\n",
       " (('e', 'd', ' '), 5777),\n",
       " (('t', 'o', ' '), 5172),\n",
       " (('a', 't', ' '), 5130),\n",
       " (('n', 'g', ' '), 4993),\n",
       " ((' ', 'i', ' '), 4875),\n",
       " ((' ', 'h', 'a'), 4615),\n",
       " ((' ', 'o', 'f'), 4586),\n",
       " ((' ', 'h', 'e'), 4495),\n",
       " ((',', ' ', 'a'), 4359),\n",
       " (('a', 's', ' '), 4320),\n",
       " ((' ', 'i', 'n'), 4079),\n",
       " (('o', 'f', ' '), 4055)]"
      ]
     },
     "execution_count": 34,
     "metadata": {},
     "output_type": "execute_result"
    }
   ],
   "source": [
    "triplets = list(sliding_window(3, norm_result))\n",
    "count_triplets = Counter(triplets)\n",
    "\n",
    "count_triplets.most_common(20)"
   ]
  },
  {
   "cell_type": "markdown",
   "id": "0bf06285",
   "metadata": {},
   "source": [
    "\n",
    "We can generalize this process by writing a function that allows to generate text of any length, given the order of the Markov chain.\n"
   ]
  },
  {
   "cell_type": "code",
   "execution_count": 35,
   "id": "babcf642",
   "metadata": {},
   "outputs": [],
   "source": [
    "\n",
    "def starts_with(sequence, letter):\n",
    "    return sequence[:len(letter)]==letter\n",
    "\n",
    "def generate_text(path_to_file=file, new_text=' ', order=1):\n",
    "    new_text = list(new_text)\n",
    "    L = order+1\n",
    "    \n",
    "    with open(path_to_file, 'r', encoding='utf8') as text:\n",
    "        lines = (line.lower() for line in text)\n",
    "        characters = it.chain.from_iterable(lines)\n",
    "        substrings = sliding_window(L, characters)\n",
    "        counts = Counter(substrings)\n",
    "        \n",
    "    while True:\n",
    "        substring = tuple(new_text[-L:])\n",
    "        letters = [c[-1] for c, v in counts.items() if starts_with(c, substring)]\n",
    "        occurrences = [v for c, v in counts.items() if starts_with(c, substring)]\n",
    "        next_letter = rd.choices(letters, occurrences)[0]\n",
    "        new_text.append(next_letter)\n",
    "        new_text = new_text[1:]\n",
    "        yield next_letter"
   ]
  },
  {
   "cell_type": "markdown",
   "id": "090f4c89",
   "metadata": {},
   "source": [
    "\n",
    "\n",
    "This function is a generator, meaning that it does not produce an output directly. Instead, when you call this function, it returns a generator object that you can iterate over to generate text dynamically.\n",
    "\n",
    "To see the output, you have to iterate over the generator using a loop or another method for consuming generators.\n",
    "\n",
    "In our case, we will use the islice function of the itertools library.\n"
   ]
  },
  {
   "cell_type": "code",
   "execution_count": 37,
   "id": "f3663780",
   "metadata": {},
   "outputs": [
    {
     "name": "stdout",
     "output_type": "stream",
     "text": [
      "d’h e a ndthh dmcefhnahtthsvynaerr k rf  sbstsk nsnh eokthgcoe tntlttwnolni o shs lh!soa\n",
      "tt eatsipfetm  te\n",
      "t rbtsdeaan o”“fimd,rt sla eouneaexeottsheiegamu ettn mtdot,h dooi iwe\n",
      "etii,nioeceie.oa  lctaihwtbu  ldi,heoe  , rnhonwn mi i to euhotit.nahvumttwr eb,ewni,h,tkoa mdaslccdh,nrl t  t ee dh eawnlf,r w  diatoei r lvctemd ao  csai tebaeitty ei,sko,eep  dshgb u ertyhbntp vsodussreh det ahnonda.“\n",
      "nht oi rlsadehta yneetrfreope thensitngsmt’ aeoetnfeoibtmennnhsrrpt\n",
      "o  on oo teoottaeiee rcraidoei mo\n"
     ]
    }
   ],
   "source": [
    "generated_text = str.join('', it.islice(generate_text(file, ' ', 3), 500))\n",
    "print(generated_text)"
   ]
  },
  {
   "cell_type": "markdown",
   "id": "37528966",
   "metadata": {},
   "source": [
    "(EXERCISE)\n",
    "\n",
    "   Genaration Function with Words: \n",
    "\n",
    "1) Preprocessecing of the text with words \n",
    "\n",
    "2) Use words as items of the lists and "
   ]
  }
 ],
 "metadata": {
  "kernelspec": {
   "display_name": "Python 3",
   "language": "python",
   "name": "python3"
  },
  "language_info": {
   "codemirror_mode": {
    "name": "ipython",
    "version": 3
   },
   "file_extension": ".py",
   "mimetype": "text/x-python",
   "name": "python",
   "nbconvert_exporter": "python",
   "pygments_lexer": "ipython3",
   "version": "3.12.9"
  }
 },
 "nbformat": 4,
 "nbformat_minor": 5
}
