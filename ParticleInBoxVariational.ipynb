{
  "nbformat": 4,
  "nbformat_minor": 0,
  "metadata": {
    "colab": {
      "provenance": [],
      "include_colab_link": true
    },
    "kernelspec": {
      "name": "python3",
      "display_name": "Python 3"
    },
    "language_info": {
      "name": "python"
    }
  },
  "cells": [
    {
      "cell_type": "markdown",
      "metadata": {
        "id": "view-in-github",
        "colab_type": "text"
      },
      "source": [
        "<a href=\"https://colab.research.google.com/github/Leoberta/Programming/blob/main/ParticleInBoxVariational.ipynb\" target=\"_parent\"><img src=\"https://colab.research.google.com/assets/colab-badge.svg\" alt=\"Open In Colab\"/></a>"
      ]
    },
    {
      "cell_type": "markdown",
      "source": [
        "# Imports\n",
        "Needed for working with widgets on google colab"
      ],
      "metadata": {
        "id": "uEnvih17vcJU"
      }
    },
    {
      "cell_type": "code",
      "source": [
        "!pip install -q ipympl"
      ],
      "metadata": {
        "id": "WgLfNy4rxysi"
      },
      "execution_count": 11,
      "outputs": []
    },
    {
      "cell_type": "markdown",
      "source": [
        "Enabling the use of third party widgets on the colab"
      ],
      "metadata": {
        "id": "KihsWV3ly4nn"
      }
    },
    {
      "cell_type": "code",
      "source": [
        "from google.colab import output\n",
        "output.enable_custom_widget_manager()"
      ],
      "metadata": {
        "id": "Iy6N4m6rx-Ae"
      },
      "execution_count": 12,
      "outputs": []
    },
    {
      "cell_type": "markdown",
      "source": [
        "Real normal imports"
      ],
      "metadata": {
        "id": "FibwCxpUy_la"
      }
    },
    {
      "cell_type": "code",
      "execution_count": 13,
      "metadata": {
        "id": "7b3YQOkPvQxQ"
      },
      "outputs": [],
      "source": [
        "import numpy as np\n",
        "from scipy.integrate import quad\n",
        "import matplotlib.pyplot as plt\n",
        "from matplotlib.widgets import Slider\n",
        "from matplotlib import rc\n",
        "\n",
        "#matplotlib widget"
      ]
    },
    {
      "cell_type": "markdown",
      "source": [
        "Inputs & Varibales (L = size of the cell; number of levels = Nlevels, Number of basis functions = Nmax)\n"
      ],
      "metadata": {
        "id": "oFCno66J8n1d"
      }
    },
    {
      "cell_type": "code",
      "source": [
        "Nlevels = 1\n",
        "L = 1\n",
        "Nmax = 10"
      ],
      "metadata": {
        "id": "iUz7rJpG1cJ4"
      },
      "execution_count": 14,
      "outputs": []
    },
    {
      "cell_type": "markdown",
      "source": [
        "Inputs for internal potential (Internal barrier between -a and +a; Internal potential = V. Default V=0, free particle case)\n"
      ],
      "metadata": {
        "id": "BKSRsIGz8Hud"
      }
    },
    {
      "cell_type": "code",
      "source": [
        "a = 0.5\n",
        "V0 = 10"
      ],
      "metadata": {
        "id": "_J5kH2I38Lb4"
      },
      "execution_count": 15,
      "outputs": []
    },
    {
      "cell_type": "markdown",
      "source": [
        "## Helper functions"
      ],
      "metadata": {
        "id": "d3yp6sKl2yr0"
      }
    },
    {
      "cell_type": "code",
      "source": [
        "def phi_var(k,x):\n",
        "    return np.where(k % 2 == 0, np.sin(k*np.pi*x/(2*L)), np.cos(k*np.pi*x/(2*L)))\n",
        "\n",
        "def H_kpk(kp,k):\n",
        "    f = lambda x: phi_var(kp,x)*phi_var(k,x)\n",
        "    return V0*quad(f,-a,a)[0]\n",
        "\n",
        "def get_Hmat():\n",
        "    H = np.empty([Nmax,Nmax])\n",
        "    for k in range(Nmax):\n",
        "        H[k,k]=((k+1)*np.pi)**2/8+H_kpk(k+1,k+1)\n",
        "        for kp in range(k):\n",
        "            H[kp,k]=H_kpk(kp+1,k+1)\n",
        "            H[k,kp]=H[kp,k]\n",
        "    return H\n",
        "\n",
        "def PSI(C,x):\n",
        "    base = phi_var(np.arange(1, len(C)+1)[:, np.newaxis], x)\n",
        "    return np.sum(C[:, :, np.newaxis] * base[np.newaxis, :, :], 1)"
      ],
      "metadata": {
        "id": "b79OMUlE2scb"
      },
      "execution_count": 16,
      "outputs": []
    },
    {
      "cell_type": "markdown",
      "source": [
        "## Main"
      ],
      "metadata": {
        "id": "8ERYJU00BxmH"
      }
    },
    {
      "cell_type": "code",
      "source": [
        "def compute_var(ax1, ax2):\n",
        "  print('Computing {} levels for V = {} and Nbasis = {}...'.format(Nlevels, V0, Nmax))\n",
        "  x = np.linspace(-L, L)[np.newaxis, :]\n",
        "  E, C = np.linalg.eigh(get_Hmat())\n",
        "  y = PSI(C,x)[:Nlevels]\n",
        "\n",
        "  for i, e in enumerate(E[:Nlevels]):\n",
        "    print('E{} = {}'.format(i, e))\n",
        "\n",
        "  ax1.plot(np.repeat(x, len(y), axis=0).T,np.square(y.T) + 1.5*np.arange(len(y)))\n",
        "  ax2.plot([E[:Nlevels]]*2)"
      ],
      "metadata": {
        "id": "klrnZNxQBxH0"
      },
      "execution_count": 17,
      "outputs": []
    },
    {
      "cell_type": "markdown",
      "source": [
        "## Compute and Plot"
      ],
      "metadata": {
        "id": "eJvWIVO424pM"
      }
    },
    {
      "cell_type": "code",
      "source": [
        "fig, (ax1, ax2) = plt.subplots(1, 2)\n",
        "plt.subplots_adjust(left=0.1, bottom=0.4)\n",
        "ax1.set(xlabel='x', ylabel=r\"$|\\psi|^2$\", title='Eigenfunctions of a particle in box')\n",
        "ax1.grid()\n",
        "ax2.set(ylabel='Energy', title='Eigenvalues of a particle in box')\n",
        "ax2.tick_params(axis='x', which='both', bottom=False, top=False, labelbottom=False)\n",
        "ax2.grid(axis='y')\n",
        "\n",
        "# Setup the widgets to control some parameters (slow and inefficient but cool)\n",
        "axNp = plt.axes([0.15, 0.05, 0.7, 0.04])\n",
        "axNm = plt.axes([0.15, 0.1, 0.7, 0.04])\n",
        "axV = plt.axes([0.15, 0.15, 0.7, 0.04])\n",
        "sliderNl = Slider(axNp, '# of levels', 1, 10, valinit=Nlevels, valstep=1)\n",
        "sliderNm = Slider(axNm, '# of basis', 1, 50, valinit=Nmax, valstep=5)\n",
        "sliderV = Slider(axV, 'V0', 0, 10, valinit=V0, valstep=1)\n",
        "def update(_):\n",
        "  global Nlevels\n",
        "  global Nmax\n",
        "  global V0\n",
        "  Nmax = sliderNm.val\n",
        "  Nlevels = sliderNl.val\n",
        "  V0 = sliderV.val\n",
        "  ax1.clear()\n",
        "  ax2.clear()\n",
        "  compute_var(ax1, ax2)\n",
        "  fig.canvas.draw()\n",
        "  ax1.set(xlabel='x', ylabel=r\"$|\\psi|^2$\", title='Eigenfunctions of a particle in box')\n",
        "  ax1.grid()\n",
        "  ax2.set(ylabel='Energy', title='Eigenvalues of a particle in box')\n",
        "  ax2.tick_params(axis='x', which='both', bottom=False, top=False, labelbottom=False)\n",
        "  ax2.grid(axis='y')\n",
        "sliderNm.on_changed(update)\n",
        "sliderNl.on_changed(update)\n",
        "sliderV.on_changed(update)\n",
        "\n",
        "compute_var(ax1, ax2)\n",
        "plt.show()"
      ],
      "metadata": {
        "colab": {
          "base_uri": "https://localhost:8080/",
          "height": 492
        },
        "id": "6RmHsile23h3",
        "outputId": "a28227af-6586-467d-ec56-fa87c1d3146b"
      },
      "execution_count": 18,
      "outputs": [
        {
          "output_type": "stream",
          "name": "stdout",
          "text": [
            "Computing 1 levels for V = 10 and Nbasis = 10...\n",
            "E0 = 7.768888345763178\n"
          ]
        },
        {
          "output_type": "display_data",
          "data": {
            "text/plain": [
              "<Figure size 640x480 with 5 Axes>"
            ],
            "image/png": "[encoded data removed]"
          },
          "metadata": {}
        }
      ]
    },
    {
      "cell_type": "markdown",
      "source": [
        "Exercise:\n",
        "\n",
        "1) For V=10 and a=0.5 find the minimum basis set size N that guarantee a convergence to the third digit for the first (ground state) eigenvalue.\n",
        "\n",
        "2) Verify that the convergence is more difficult (larger N) for excited states, for instance E5.\n",
        "\n",
        "3) Verify that a larger basis set size (N) is needed to converge to the third digit for a larger potential, e.g. V=100. Why? (mind: little bug in the program to be fixed)"
      ],
      "metadata": {
        "id": "1ToTvNVd-MYJ"
      }
    }
  ]
}